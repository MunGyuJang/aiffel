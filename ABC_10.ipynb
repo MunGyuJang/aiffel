{
 "cells": [
  {
   "cell_type": "code",
   "execution_count": 1,
   "id": "dd66dc3c",
   "metadata": {},
   "outputs": [],
   "source": [
    "# 필요 라이브러리 호출하기\n",
    "# Pandas, Numpy, Matplotlib, Seaborn을 호출해봅니다.\n",
    "# [[YOUR CODE]]\n",
    "import pandas as pd\n",
    "import numpy as np\n",
    "import seaborn as sns\n",
    "import matplotlib.pyplot as plt"
   ]
  },
  {
   "cell_type": "code",
   "execution_count": 2,
   "id": "90918f5d",
   "metadata": {},
   "outputs": [],
   "source": [
    "# 데이터 호출하기\n",
    "# entry_data.csv, sales_data.csv, item_data.csv, item_entry_data.csv의\n",
    "# 총 네 가지 파일을 각각 호출합니다.\n",
    "# 파일들은 본 클라우드에 저장되어있어 다음을 참고하여 호출해주세요.\n",
    "# entry_data = pd.read_csv('~/aiffel/data_analysis_basic/data/entry_data.csv')\n",
    "# [[YOUR CODE]]\n",
    "import os\n",
    "from os.path import join\n",
    "\n",
    "data_dir = os.getenv('HOME') + '/aiffel/data_analysis_basic/data'\n",
    "\n",
    "entry_data_path = join(data_dir, 'entry_data.csv')\n",
    "sales_data_path = join(data_dir, 'sales_data.csv')\n",
    "item_data_path = join(data_dir, 'item_data.csv')\n",
    "item_entry_data_path = join(data_dir, 'item_entry_data.csv')\n",
    "\n",
    "entry_data = pd.read_csv(entry_data_path)\n",
    "sales_data = pd.read_csv(sales_data_path)\n",
    "item_data = pd.read_csv(item_data_path)\n",
    "item_entry_data = pd.read_csv(item_entry_data_path)"
   ]
  },
  {
   "cell_type": "code",
   "execution_count": 3,
   "id": "f22a58e4",
   "metadata": {},
   "outputs": [
    {
     "name": "stdout",
     "output_type": "stream",
     "text": [
      "<class 'pandas.core.frame.DataFrame'>\n",
      "RangeIndex: 22555 entries, 0 to 22554\n",
      "Data columns (total 8 columns):\n",
      " #   Column  Non-Null Count  Dtype \n",
      "---  ------  --------------  ----- \n",
      " 0   요금제명    22292 non-null  object\n",
      " 1   입실      22555 non-null  object\n",
      " 2   퇴실      22555 non-null  object\n",
      " 3   이용      22533 non-null  object\n",
      " 4   위치      22555 non-null  object\n",
      " 5   금액      22555 non-null  int64 \n",
      " 6   구분      22555 non-null  object\n",
      " 7   고객      22555 non-null  object\n",
      "dtypes: int64(1), object(7)\n",
      "memory usage: 1.4+ MB\n"
     ]
    }
   ],
   "source": [
    "# entry_data 데이터 정보 확인하기\n",
    "# [[YOUR CODE]]\n",
    "entry_data.info()"
   ]
  },
  {
   "cell_type": "code",
   "execution_count": 4,
   "id": "d0fd2af6",
   "metadata": {},
   "outputs": [
    {
     "name": "stdout",
     "output_type": "stream",
     "text": [
      "<class 'pandas.core.frame.DataFrame'>\n",
      "RangeIndex: 174 entries, 0 to 173\n",
      "Data columns (total 4 columns):\n",
      " #   Column  Non-Null Count  Dtype \n",
      "---  ------  --------------  ----- \n",
      " 0   구분      174 non-null    int64 \n",
      " 1   분류      174 non-null    object\n",
      " 2   상품명     174 non-null    object\n",
      " 3   판매금액    174 non-null    object\n",
      "dtypes: int64(1), object(3)\n",
      "memory usage: 5.6+ KB\n"
     ]
    }
   ],
   "source": [
    "# item_data 데이터 정보 확인하기\n",
    "# [[YOUR CODE]]\n",
    "item_data.info()"
   ]
  },
  {
   "cell_type": "code",
   "execution_count": 5,
   "id": "7afddab8",
   "metadata": {},
   "outputs": [
    {
     "name": "stdout",
     "output_type": "stream",
     "text": [
      "<class 'pandas.core.frame.DataFrame'>\n",
      "RangeIndex: 34 entries, 0 to 33\n",
      "Data columns (total 4 columns):\n",
      " #   Column  Non-Null Count  Dtype \n",
      "---  ------  --------------  ----- \n",
      " 0   순위      34 non-null     int64 \n",
      " 1   분류      34 non-null     object\n",
      " 2   상품명     34 non-null     object\n",
      " 3   판매금액    34 non-null     object\n",
      "dtypes: int64(1), object(3)\n",
      "memory usage: 1.2+ KB\n"
     ]
    }
   ],
   "source": [
    "# item_entry_data 데이터 정보 확인하기\n",
    "# [[YOUR CODE]]\n",
    "item_entry_data.info()"
   ]
  },
  {
   "cell_type": "code",
   "execution_count": 6,
   "id": "ba5e4e59",
   "metadata": {},
   "outputs": [
    {
     "data": {
      "text/html": [
       "<div>\n",
       "<style scoped>\n",
       "    .dataframe tbody tr th:only-of-type {\n",
       "        vertical-align: middle;\n",
       "    }\n",
       "\n",
       "    .dataframe tbody tr th {\n",
       "        vertical-align: top;\n",
       "    }\n",
       "\n",
       "    .dataframe thead th {\n",
       "        text-align: right;\n",
       "    }\n",
       "</style>\n",
       "<table border=\"1\" class=\"dataframe\">\n",
       "  <thead>\n",
       "    <tr style=\"text-align: right;\">\n",
       "      <th></th>\n",
       "      <th>결제일시</th>\n",
       "      <th>판매위치</th>\n",
       "      <th>상품명</th>\n",
       "      <th>결제방식</th>\n",
       "      <th>비고</th>\n",
       "      <th>판매수량</th>\n",
       "      <th>결제금액</th>\n",
       "      <th>고객</th>\n",
       "    </tr>\n",
       "  </thead>\n",
       "  <tbody>\n",
       "    <tr>\n",
       "      <th>0</th>\n",
       "      <td>2022-04-01 19:41</td>\n",
       "      <td>선불기1</td>\n",
       "      <td>치킨카라아케 6pc</td>\n",
       "      <td>신용카드</td>\n",
       "      <td>결제완료</td>\n",
       "      <td>1</td>\n",
       "      <td>4,500</td>\n",
       "      <td>customer275507</td>\n",
       "    </tr>\n",
       "    <tr>\n",
       "      <th>1</th>\n",
       "      <td>2022-04-01 19:41</td>\n",
       "      <td>선불기1</td>\n",
       "      <td>짜장라면(계란추가)</td>\n",
       "      <td>신용카드</td>\n",
       "      <td>결제완료</td>\n",
       "      <td>1</td>\n",
       "      <td>5,500</td>\n",
       "      <td>customer275507</td>\n",
       "    </tr>\n",
       "    <tr>\n",
       "      <th>2</th>\n",
       "      <td>2022-04-01 19:41</td>\n",
       "      <td>선불기1</td>\n",
       "      <td>라면</td>\n",
       "      <td>신용카드</td>\n",
       "      <td>결제완료</td>\n",
       "      <td>1</td>\n",
       "      <td>4,000</td>\n",
       "      <td>customer275507</td>\n",
       "    </tr>\n",
       "    <tr>\n",
       "      <th>3</th>\n",
       "      <td>2022-04-01 19:41</td>\n",
       "      <td>선불기1</td>\n",
       "      <td>비엔나소세지(토핑)</td>\n",
       "      <td>신용카드</td>\n",
       "      <td>결제완료</td>\n",
       "      <td>1</td>\n",
       "      <td>1,000</td>\n",
       "      <td>customer275507</td>\n",
       "    </tr>\n",
       "    <tr>\n",
       "      <th>4</th>\n",
       "      <td>2022-04-01 19:41</td>\n",
       "      <td>선불기1</td>\n",
       "      <td>라면(계란/치즈추가)</td>\n",
       "      <td>신용카드</td>\n",
       "      <td>결제완료</td>\n",
       "      <td>1</td>\n",
       "      <td>5,000</td>\n",
       "      <td>customer275507</td>\n",
       "    </tr>\n",
       "    <tr>\n",
       "      <th>...</th>\n",
       "      <td>...</td>\n",
       "      <td>...</td>\n",
       "      <td>...</td>\n",
       "      <td>...</td>\n",
       "      <td>...</td>\n",
       "      <td>...</td>\n",
       "      <td>...</td>\n",
       "      <td>...</td>\n",
       "    </tr>\n",
       "    <tr>\n",
       "      <th>7100</th>\n",
       "      <td>2021-02-17 14:21</td>\n",
       "      <td>카운터</td>\n",
       "      <td>아메리카노(HOT)</td>\n",
       "      <td>현금</td>\n",
       "      <td>결제취소</td>\n",
       "      <td>-1</td>\n",
       "      <td>-3,500</td>\n",
       "      <td>NaN</td>\n",
       "    </tr>\n",
       "    <tr>\n",
       "      <th>7101</th>\n",
       "      <td>2021-02-17 13:51</td>\n",
       "      <td>선불기2</td>\n",
       "      <td>카페모카(HOT)</td>\n",
       "      <td>신용카드</td>\n",
       "      <td>결제완료</td>\n",
       "      <td>1</td>\n",
       "      <td>4,500</td>\n",
       "      <td>NaN</td>\n",
       "    </tr>\n",
       "    <tr>\n",
       "      <th>7102</th>\n",
       "      <td>2021-02-17 13:51</td>\n",
       "      <td>선불기2</td>\n",
       "      <td>카페모카(HOT)</td>\n",
       "      <td>신용카드</td>\n",
       "      <td>판매취소</td>\n",
       "      <td>-1</td>\n",
       "      <td>-4,500</td>\n",
       "      <td>NaN</td>\n",
       "    </tr>\n",
       "    <tr>\n",
       "      <th>7103</th>\n",
       "      <td>2021-02-17 13:26</td>\n",
       "      <td>카운터</td>\n",
       "      <td>카페라떼(HOT)</td>\n",
       "      <td>신용카드</td>\n",
       "      <td>결제완료</td>\n",
       "      <td>1</td>\n",
       "      <td>4,000</td>\n",
       "      <td>NaN</td>\n",
       "    </tr>\n",
       "    <tr>\n",
       "      <th>7104</th>\n",
       "      <td>2021-02-17 13:27</td>\n",
       "      <td>카운터</td>\n",
       "      <td>카페라떼(HOT)</td>\n",
       "      <td>신용카드</td>\n",
       "      <td>판매취소</td>\n",
       "      <td>-1</td>\n",
       "      <td>-4,000</td>\n",
       "      <td>NaN</td>\n",
       "    </tr>\n",
       "  </tbody>\n",
       "</table>\n",
       "<p>7105 rows × 8 columns</p>\n",
       "</div>"
      ],
      "text/plain": [
       "                  결제일시  판매위치          상품명  결제방식    비고  판매수량    결제금액  \\\n",
       "0     2022-04-01 19:41  선불기1   치킨카라아케 6pc  신용카드  결제완료     1   4,500   \n",
       "1     2022-04-01 19:41  선불기1   짜장라면(계란추가)  신용카드  결제완료     1   5,500   \n",
       "2     2022-04-01 19:41  선불기1           라면  신용카드  결제완료     1   4,000   \n",
       "3     2022-04-01 19:41  선불기1   비엔나소세지(토핑)  신용카드  결제완료     1   1,000   \n",
       "4     2022-04-01 19:41  선불기1  라면(계란/치즈추가)  신용카드  결제완료     1   5,000   \n",
       "...                ...   ...          ...   ...   ...   ...     ...   \n",
       "7100  2021-02-17 14:21   카운터   아메리카노(HOT)    현금  결제취소    -1  -3,500   \n",
       "7101  2021-02-17 13:51  선불기2    카페모카(HOT)  신용카드  결제완료     1   4,500   \n",
       "7102  2021-02-17 13:51  선불기2    카페모카(HOT)  신용카드  판매취소    -1  -4,500   \n",
       "7103  2021-02-17 13:26   카운터    카페라떼(HOT)  신용카드  결제완료     1   4,000   \n",
       "7104  2021-02-17 13:27   카운터    카페라떼(HOT)  신용카드  판매취소    -1  -4,000   \n",
       "\n",
       "                  고객  \n",
       "0     customer275507  \n",
       "1     customer275507  \n",
       "2     customer275507  \n",
       "3     customer275507  \n",
       "4     customer275507  \n",
       "...              ...  \n",
       "7100             NaN  \n",
       "7101             NaN  \n",
       "7102             NaN  \n",
       "7103             NaN  \n",
       "7104             NaN  \n",
       "\n",
       "[7105 rows x 8 columns]"
      ]
     },
     "execution_count": 6,
     "metadata": {},
     "output_type": "execute_result"
    }
   ],
   "source": [
    "# 활용할 데이터(sales_data)를 temp_var로 정의하기\n",
    "# [[YOUR CODE]]\n",
    "#sales_data['결제일시'] = pd.to_datetime(sales_data['결제일시'])\n",
    "#sales_data['결제금액'] = pd.to_numeric(sales_data['결제금액'])\n",
    "\n",
    "#temp_var = sales_data['결제금액'].groupby(sales_data['결제일시'].dt.month).sum()\n",
    "\n",
    "#ax = sns.barplot(data=temp_var.reset_index(), x='결제일시', y='결제금액')\n",
    "#plt.title('Total sales by month')\n",
    "#plt.show()\n",
    "\n",
    "temp_var = sales_data\n",
    "\n",
    "temp_var"
   ]
  },
  {
   "cell_type": "code",
   "execution_count": 7,
   "id": "8fe6ad3c",
   "metadata": {},
   "outputs": [
    {
     "data": {
      "text/html": [
       "<div>\n",
       "<style scoped>\n",
       "    .dataframe tbody tr th:only-of-type {\n",
       "        vertical-align: middle;\n",
       "    }\n",
       "\n",
       "    .dataframe tbody tr th {\n",
       "        vertical-align: top;\n",
       "    }\n",
       "\n",
       "    .dataframe thead th {\n",
       "        text-align: right;\n",
       "    }\n",
       "</style>\n",
       "<table border=\"1\" class=\"dataframe\">\n",
       "  <thead>\n",
       "    <tr style=\"text-align: right;\">\n",
       "      <th></th>\n",
       "      <th>결제일시</th>\n",
       "      <th>판매위치</th>\n",
       "      <th>상품명</th>\n",
       "      <th>결제방식</th>\n",
       "      <th>비고</th>\n",
       "      <th>판매수량</th>\n",
       "      <th>결제금액</th>\n",
       "      <th>고객</th>\n",
       "      <th>date</th>\n",
       "    </tr>\n",
       "  </thead>\n",
       "  <tbody>\n",
       "    <tr>\n",
       "      <th>0</th>\n",
       "      <td>2022-04-01 19:41</td>\n",
       "      <td>선불기1</td>\n",
       "      <td>치킨카라아케 6pc</td>\n",
       "      <td>신용카드</td>\n",
       "      <td>결제완료</td>\n",
       "      <td>1</td>\n",
       "      <td>4,500</td>\n",
       "      <td>customer275507</td>\n",
       "      <td>2022-04</td>\n",
       "    </tr>\n",
       "    <tr>\n",
       "      <th>1</th>\n",
       "      <td>2022-04-01 19:41</td>\n",
       "      <td>선불기1</td>\n",
       "      <td>짜장라면(계란추가)</td>\n",
       "      <td>신용카드</td>\n",
       "      <td>결제완료</td>\n",
       "      <td>1</td>\n",
       "      <td>5,500</td>\n",
       "      <td>customer275507</td>\n",
       "      <td>2022-04</td>\n",
       "    </tr>\n",
       "    <tr>\n",
       "      <th>2</th>\n",
       "      <td>2022-04-01 19:41</td>\n",
       "      <td>선불기1</td>\n",
       "      <td>라면</td>\n",
       "      <td>신용카드</td>\n",
       "      <td>결제완료</td>\n",
       "      <td>1</td>\n",
       "      <td>4,000</td>\n",
       "      <td>customer275507</td>\n",
       "      <td>2022-04</td>\n",
       "    </tr>\n",
       "    <tr>\n",
       "      <th>3</th>\n",
       "      <td>2022-04-01 19:41</td>\n",
       "      <td>선불기1</td>\n",
       "      <td>비엔나소세지(토핑)</td>\n",
       "      <td>신용카드</td>\n",
       "      <td>결제완료</td>\n",
       "      <td>1</td>\n",
       "      <td>1,000</td>\n",
       "      <td>customer275507</td>\n",
       "      <td>2022-04</td>\n",
       "    </tr>\n",
       "    <tr>\n",
       "      <th>4</th>\n",
       "      <td>2022-04-01 19:41</td>\n",
       "      <td>선불기1</td>\n",
       "      <td>라면(계란/치즈추가)</td>\n",
       "      <td>신용카드</td>\n",
       "      <td>결제완료</td>\n",
       "      <td>1</td>\n",
       "      <td>5,000</td>\n",
       "      <td>customer275507</td>\n",
       "      <td>2022-04</td>\n",
       "    </tr>\n",
       "    <tr>\n",
       "      <th>...</th>\n",
       "      <td>...</td>\n",
       "      <td>...</td>\n",
       "      <td>...</td>\n",
       "      <td>...</td>\n",
       "      <td>...</td>\n",
       "      <td>...</td>\n",
       "      <td>...</td>\n",
       "      <td>...</td>\n",
       "      <td>...</td>\n",
       "    </tr>\n",
       "    <tr>\n",
       "      <th>7100</th>\n",
       "      <td>2021-02-17 14:21</td>\n",
       "      <td>카운터</td>\n",
       "      <td>아메리카노(HOT)</td>\n",
       "      <td>현금</td>\n",
       "      <td>결제취소</td>\n",
       "      <td>-1</td>\n",
       "      <td>-3,500</td>\n",
       "      <td>NaN</td>\n",
       "      <td>2021-02</td>\n",
       "    </tr>\n",
       "    <tr>\n",
       "      <th>7101</th>\n",
       "      <td>2021-02-17 13:51</td>\n",
       "      <td>선불기2</td>\n",
       "      <td>카페모카(HOT)</td>\n",
       "      <td>신용카드</td>\n",
       "      <td>결제완료</td>\n",
       "      <td>1</td>\n",
       "      <td>4,500</td>\n",
       "      <td>NaN</td>\n",
       "      <td>2021-02</td>\n",
       "    </tr>\n",
       "    <tr>\n",
       "      <th>7102</th>\n",
       "      <td>2021-02-17 13:51</td>\n",
       "      <td>선불기2</td>\n",
       "      <td>카페모카(HOT)</td>\n",
       "      <td>신용카드</td>\n",
       "      <td>판매취소</td>\n",
       "      <td>-1</td>\n",
       "      <td>-4,500</td>\n",
       "      <td>NaN</td>\n",
       "      <td>2021-02</td>\n",
       "    </tr>\n",
       "    <tr>\n",
       "      <th>7103</th>\n",
       "      <td>2021-02-17 13:26</td>\n",
       "      <td>카운터</td>\n",
       "      <td>카페라떼(HOT)</td>\n",
       "      <td>신용카드</td>\n",
       "      <td>결제완료</td>\n",
       "      <td>1</td>\n",
       "      <td>4,000</td>\n",
       "      <td>NaN</td>\n",
       "      <td>2021-02</td>\n",
       "    </tr>\n",
       "    <tr>\n",
       "      <th>7104</th>\n",
       "      <td>2021-02-17 13:27</td>\n",
       "      <td>카운터</td>\n",
       "      <td>카페라떼(HOT)</td>\n",
       "      <td>신용카드</td>\n",
       "      <td>판매취소</td>\n",
       "      <td>-1</td>\n",
       "      <td>-4,000</td>\n",
       "      <td>NaN</td>\n",
       "      <td>2021-02</td>\n",
       "    </tr>\n",
       "  </tbody>\n",
       "</table>\n",
       "<p>7105 rows × 9 columns</p>\n",
       "</div>"
      ],
      "text/plain": [
       "                  결제일시  판매위치          상품명  결제방식    비고  판매수량    결제금액  \\\n",
       "0     2022-04-01 19:41  선불기1   치킨카라아케 6pc  신용카드  결제완료     1   4,500   \n",
       "1     2022-04-01 19:41  선불기1   짜장라면(계란추가)  신용카드  결제완료     1   5,500   \n",
       "2     2022-04-01 19:41  선불기1           라면  신용카드  결제완료     1   4,000   \n",
       "3     2022-04-01 19:41  선불기1   비엔나소세지(토핑)  신용카드  결제완료     1   1,000   \n",
       "4     2022-04-01 19:41  선불기1  라면(계란/치즈추가)  신용카드  결제완료     1   5,000   \n",
       "...                ...   ...          ...   ...   ...   ...     ...   \n",
       "7100  2021-02-17 14:21   카운터   아메리카노(HOT)    현금  결제취소    -1  -3,500   \n",
       "7101  2021-02-17 13:51  선불기2    카페모카(HOT)  신용카드  결제완료     1   4,500   \n",
       "7102  2021-02-17 13:51  선불기2    카페모카(HOT)  신용카드  판매취소    -1  -4,500   \n",
       "7103  2021-02-17 13:26   카운터    카페라떼(HOT)  신용카드  결제완료     1   4,000   \n",
       "7104  2021-02-17 13:27   카운터    카페라떼(HOT)  신용카드  판매취소    -1  -4,000   \n",
       "\n",
       "                  고객     date  \n",
       "0     customer275507  2022-04  \n",
       "1     customer275507  2022-04  \n",
       "2     customer275507  2022-04  \n",
       "3     customer275507  2022-04  \n",
       "4     customer275507  2022-04  \n",
       "...              ...      ...  \n",
       "7100             NaN  2021-02  \n",
       "7101             NaN  2021-02  \n",
       "7102             NaN  2021-02  \n",
       "7103             NaN  2021-02  \n",
       "7104             NaN  2021-02  \n",
       "\n",
       "[7105 rows x 9 columns]"
      ]
     },
     "execution_count": 7,
     "metadata": {},
     "output_type": "execute_result"
    }
   ],
   "source": [
    "# temp_var의 date열을 만들고, sales_date의 결제일시 중 앞에서 7번째 값까지 할당\n",
    "# [[YOUR CODE]]\n",
    "temp_var['date'] = temp_var['결제일시'].apply(lambda x: x[:7])\n",
    "\n",
    "temp_var"
   ]
  },
  {
   "cell_type": "code",
   "execution_count": 8,
   "id": "bdfbf0a8",
   "metadata": {},
   "outputs": [
    {
     "data": {
      "text/html": [
       "<div>\n",
       "<style scoped>\n",
       "    .dataframe tbody tr th:only-of-type {\n",
       "        vertical-align: middle;\n",
       "    }\n",
       "\n",
       "    .dataframe tbody tr th {\n",
       "        vertical-align: top;\n",
       "    }\n",
       "\n",
       "    .dataframe thead th {\n",
       "        text-align: right;\n",
       "    }\n",
       "</style>\n",
       "<table border=\"1\" class=\"dataframe\">\n",
       "  <thead>\n",
       "    <tr style=\"text-align: right;\">\n",
       "      <th></th>\n",
       "      <th>결제일시</th>\n",
       "      <th>판매위치</th>\n",
       "      <th>상품명</th>\n",
       "      <th>결제방식</th>\n",
       "      <th>비고</th>\n",
       "      <th>판매수량</th>\n",
       "      <th>결제금액</th>\n",
       "      <th>고객</th>\n",
       "      <th>date</th>\n",
       "    </tr>\n",
       "  </thead>\n",
       "  <tbody>\n",
       "    <tr>\n",
       "      <th>0</th>\n",
       "      <td>2022-04-01 19:41</td>\n",
       "      <td>선불기1</td>\n",
       "      <td>치킨카라아케 6pc</td>\n",
       "      <td>신용카드</td>\n",
       "      <td>결제완료</td>\n",
       "      <td>1</td>\n",
       "      <td>4500</td>\n",
       "      <td>customer275507</td>\n",
       "      <td>2022-04</td>\n",
       "    </tr>\n",
       "    <tr>\n",
       "      <th>1</th>\n",
       "      <td>2022-04-01 19:41</td>\n",
       "      <td>선불기1</td>\n",
       "      <td>짜장라면(계란추가)</td>\n",
       "      <td>신용카드</td>\n",
       "      <td>결제완료</td>\n",
       "      <td>1</td>\n",
       "      <td>5500</td>\n",
       "      <td>customer275507</td>\n",
       "      <td>2022-04</td>\n",
       "    </tr>\n",
       "    <tr>\n",
       "      <th>2</th>\n",
       "      <td>2022-04-01 19:41</td>\n",
       "      <td>선불기1</td>\n",
       "      <td>라면</td>\n",
       "      <td>신용카드</td>\n",
       "      <td>결제완료</td>\n",
       "      <td>1</td>\n",
       "      <td>4000</td>\n",
       "      <td>customer275507</td>\n",
       "      <td>2022-04</td>\n",
       "    </tr>\n",
       "    <tr>\n",
       "      <th>3</th>\n",
       "      <td>2022-04-01 19:41</td>\n",
       "      <td>선불기1</td>\n",
       "      <td>비엔나소세지(토핑)</td>\n",
       "      <td>신용카드</td>\n",
       "      <td>결제완료</td>\n",
       "      <td>1</td>\n",
       "      <td>1000</td>\n",
       "      <td>customer275507</td>\n",
       "      <td>2022-04</td>\n",
       "    </tr>\n",
       "    <tr>\n",
       "      <th>4</th>\n",
       "      <td>2022-04-01 19:41</td>\n",
       "      <td>선불기1</td>\n",
       "      <td>라면(계란/치즈추가)</td>\n",
       "      <td>신용카드</td>\n",
       "      <td>결제완료</td>\n",
       "      <td>1</td>\n",
       "      <td>5000</td>\n",
       "      <td>customer275507</td>\n",
       "      <td>2022-04</td>\n",
       "    </tr>\n",
       "    <tr>\n",
       "      <th>...</th>\n",
       "      <td>...</td>\n",
       "      <td>...</td>\n",
       "      <td>...</td>\n",
       "      <td>...</td>\n",
       "      <td>...</td>\n",
       "      <td>...</td>\n",
       "      <td>...</td>\n",
       "      <td>...</td>\n",
       "      <td>...</td>\n",
       "    </tr>\n",
       "    <tr>\n",
       "      <th>7100</th>\n",
       "      <td>2021-02-17 14:21</td>\n",
       "      <td>카운터</td>\n",
       "      <td>아메리카노(HOT)</td>\n",
       "      <td>현금</td>\n",
       "      <td>결제취소</td>\n",
       "      <td>-1</td>\n",
       "      <td>-3500</td>\n",
       "      <td>NaN</td>\n",
       "      <td>2021-02</td>\n",
       "    </tr>\n",
       "    <tr>\n",
       "      <th>7101</th>\n",
       "      <td>2021-02-17 13:51</td>\n",
       "      <td>선불기2</td>\n",
       "      <td>카페모카(HOT)</td>\n",
       "      <td>신용카드</td>\n",
       "      <td>결제완료</td>\n",
       "      <td>1</td>\n",
       "      <td>4500</td>\n",
       "      <td>NaN</td>\n",
       "      <td>2021-02</td>\n",
       "    </tr>\n",
       "    <tr>\n",
       "      <th>7102</th>\n",
       "      <td>2021-02-17 13:51</td>\n",
       "      <td>선불기2</td>\n",
       "      <td>카페모카(HOT)</td>\n",
       "      <td>신용카드</td>\n",
       "      <td>판매취소</td>\n",
       "      <td>-1</td>\n",
       "      <td>-4500</td>\n",
       "      <td>NaN</td>\n",
       "      <td>2021-02</td>\n",
       "    </tr>\n",
       "    <tr>\n",
       "      <th>7103</th>\n",
       "      <td>2021-02-17 13:26</td>\n",
       "      <td>카운터</td>\n",
       "      <td>카페라떼(HOT)</td>\n",
       "      <td>신용카드</td>\n",
       "      <td>결제완료</td>\n",
       "      <td>1</td>\n",
       "      <td>4000</td>\n",
       "      <td>NaN</td>\n",
       "      <td>2021-02</td>\n",
       "    </tr>\n",
       "    <tr>\n",
       "      <th>7104</th>\n",
       "      <td>2021-02-17 13:27</td>\n",
       "      <td>카운터</td>\n",
       "      <td>카페라떼(HOT)</td>\n",
       "      <td>신용카드</td>\n",
       "      <td>판매취소</td>\n",
       "      <td>-1</td>\n",
       "      <td>-4000</td>\n",
       "      <td>NaN</td>\n",
       "      <td>2021-02</td>\n",
       "    </tr>\n",
       "  </tbody>\n",
       "</table>\n",
       "<p>7105 rows × 9 columns</p>\n",
       "</div>"
      ],
      "text/plain": [
       "                  결제일시  판매위치          상품명  결제방식    비고  판매수량   결제금액  \\\n",
       "0     2022-04-01 19:41  선불기1   치킨카라아케 6pc  신용카드  결제완료     1   4500   \n",
       "1     2022-04-01 19:41  선불기1   짜장라면(계란추가)  신용카드  결제완료     1   5500   \n",
       "2     2022-04-01 19:41  선불기1           라면  신용카드  결제완료     1   4000   \n",
       "3     2022-04-01 19:41  선불기1   비엔나소세지(토핑)  신용카드  결제완료     1   1000   \n",
       "4     2022-04-01 19:41  선불기1  라면(계란/치즈추가)  신용카드  결제완료     1   5000   \n",
       "...                ...   ...          ...   ...   ...   ...    ...   \n",
       "7100  2021-02-17 14:21   카운터   아메리카노(HOT)    현금  결제취소    -1  -3500   \n",
       "7101  2021-02-17 13:51  선불기2    카페모카(HOT)  신용카드  결제완료     1   4500   \n",
       "7102  2021-02-17 13:51  선불기2    카페모카(HOT)  신용카드  판매취소    -1  -4500   \n",
       "7103  2021-02-17 13:26   카운터    카페라떼(HOT)  신용카드  결제완료     1   4000   \n",
       "7104  2021-02-17 13:27   카운터    카페라떼(HOT)  신용카드  판매취소    -1  -4000   \n",
       "\n",
       "                  고객     date  \n",
       "0     customer275507  2022-04  \n",
       "1     customer275507  2022-04  \n",
       "2     customer275507  2022-04  \n",
       "3     customer275507  2022-04  \n",
       "4     customer275507  2022-04  \n",
       "...              ...      ...  \n",
       "7100             NaN  2021-02  \n",
       "7101             NaN  2021-02  \n",
       "7102             NaN  2021-02  \n",
       "7103             NaN  2021-02  \n",
       "7104             NaN  2021-02  \n",
       "\n",
       "[7105 rows x 9 columns]"
      ]
     },
     "execution_count": 8,
     "metadata": {},
     "output_type": "execute_result"
    }
   ],
   "source": [
    "# salse_data의 결제금액에 포함된 쉼표(,) 지우기\n",
    "# [[YOUR CODE]]\n",
    "temp_var['결제금액'] = temp_var['결제금액'].apply(lambda x: x.replace(',', ''))\n",
    "temp_var"
   ]
  },
  {
   "cell_type": "code",
   "execution_count": 9,
   "id": "ee63c90e",
   "metadata": {},
   "outputs": [
    {
     "data": {
      "text/plain": [
       "count    7105.000000\n",
       "mean     3903.997185\n",
       "std      1997.650171\n",
       "min     -5500.000000\n",
       "25%      3500.000000\n",
       "50%      4500.000000\n",
       "75%      5000.000000\n",
       "max      9000.000000\n",
       "Name: payment, dtype: float64"
      ]
     },
     "execution_count": 9,
     "metadata": {},
     "output_type": "execute_result"
    }
   ],
   "source": [
    "# salse_data의 결제금액을 숫자형태로 바꾸기\n",
    "# [[YOUR CODE]]\n",
    "temp_var['payment'] = temp_var['결제금액'].apply(lambda x: int(x))\n",
    "\n",
    "temp_var['payment'].describe()"
   ]
  },
  {
   "cell_type": "code",
   "execution_count": 10,
   "id": "1ae10813",
   "metadata": {},
   "outputs": [
    {
     "data": {
      "text/plain": [
       "date\n",
       "2021-02       7000\n",
       "2021-03    2104500\n",
       "2021-04    3116600\n",
       "2021-05    2537000\n",
       "2021-06    3621500\n",
       "2021-07    1215000\n",
       "2021-08    1229000\n",
       "2021-09    1197500\n",
       "2021-10    2138500\n",
       "2021-11    2748500\n",
       "2021-12    3290000\n",
       "2022-01    1430500\n",
       "2022-02    1181500\n",
       "2022-03    1870900\n",
       "2022-04      49900\n",
       "Name: payment, dtype: int64"
      ]
     },
     "execution_count": 10,
     "metadata": {},
     "output_type": "execute_result"
    }
   ],
   "source": [
    "# temp_var의 payment열을 date 기준으로 집계하기\n",
    "# [[YOUR CODE]]\n",
    "grouped = temp_var['payment'].groupby(temp_var['date']).sum()\n",
    "grouped"
   ]
  },
  {
   "cell_type": "code",
   "execution_count": 11,
   "id": "b0d11059",
   "metadata": {},
   "outputs": [
    {
     "data": {
      "image/png": "[encoded data removed]",
      "text/plain": [
       "<Figure size 720x360 with 1 Axes>"
      ]
     },
     "metadata": {
      "needs_background": "light"
     },
     "output_type": "display_data"
    }
   ],
   "source": [
    "# 집계 결과를 시각화하기\n",
    "# [[YOUR CODE]]\n",
    "plt.figure(figsize=(10, 5))\n",
    "sns.barplot(data=grouped.reset_index(), x='date', y='payment')\n",
    "plt.title('Total payment by month')\n",
    "plt.xticks(rotation=30)\n",
    "plt.show()"
   ]
  },
  {
   "cell_type": "code",
   "execution_count": 12,
   "id": "9e8953fa",
   "metadata": {},
   "outputs": [
    {
     "data": {
      "text/plain": [
       "김치볶음밥          1204\n",
       "라면              749\n",
       "짜장라면            455\n",
       "치즈불고기볶음밥        420\n",
       "계란추가            314\n",
       "               ... \n",
       "라면(계란/치즈추가)       1\n",
       "녹차(HOT)           1\n",
       "짜장라면(계란추가)        1\n",
       "이어폰(커널형)          1\n",
       "오늘은 한돈간장불고기       1\n",
       "Name: 상품명, Length: 100, dtype: int64"
      ]
     },
     "execution_count": 12,
     "metadata": {},
     "output_type": "execute_result"
    }
   ],
   "source": [
    "# temp_var의 상품명을 value_counts를 이용해 집계하기\n",
    "# 주의! value_counts로 바로 집계하면 판매취소와 결제취소가 함께 집계됩니다.\n",
    "# 따라서 '판매수량' 칼럼 값이 '-1'인 데이터를 제외하고 집계해야 합니다.\n",
    "# 힌트 코드 : temp_var[temp_var['판매수량']==-1]\n",
    "# [[YOUR CODE]]\n",
    "item_count = temp_var['상품명'].loc[temp_var['판매수량']==1].value_counts()\n",
    "item_count"
   ]
  },
  {
   "cell_type": "code",
   "execution_count": 14,
   "id": "8bb1f187",
   "metadata": {},
   "outputs": [
    {
     "data": {
      "text/html": [
       "<div>\n",
       "<style scoped>\n",
       "    .dataframe tbody tr th:only-of-type {\n",
       "        vertical-align: middle;\n",
       "    }\n",
       "\n",
       "    .dataframe tbody tr th {\n",
       "        vertical-align: top;\n",
       "    }\n",
       "\n",
       "    .dataframe thead th {\n",
       "        text-align: right;\n",
       "    }\n",
       "</style>\n",
       "<table border=\"1\" class=\"dataframe\">\n",
       "  <thead>\n",
       "    <tr style=\"text-align: right;\">\n",
       "      <th></th>\n",
       "      <th>상품명</th>\n",
       "    </tr>\n",
       "  </thead>\n",
       "  <tbody>\n",
       "    <tr>\n",
       "      <th>김치볶음밥</th>\n",
       "      <td>1204</td>\n",
       "    </tr>\n",
       "    <tr>\n",
       "      <th>라면</th>\n",
       "      <td>749</td>\n",
       "    </tr>\n",
       "    <tr>\n",
       "      <th>짜장라면</th>\n",
       "      <td>455</td>\n",
       "    </tr>\n",
       "    <tr>\n",
       "      <th>치즈불고기볶음밥</th>\n",
       "      <td>420</td>\n",
       "    </tr>\n",
       "    <tr>\n",
       "      <th>계란추가</th>\n",
       "      <td>314</td>\n",
       "    </tr>\n",
       "    <tr>\n",
       "      <th>낙지볶음밥</th>\n",
       "      <td>312</td>\n",
       "    </tr>\n",
       "    <tr>\n",
       "      <th>새우볶음밥</th>\n",
       "      <td>309</td>\n",
       "    </tr>\n",
       "    <tr>\n",
       "      <th>아메리카노(ICE)</th>\n",
       "      <td>284</td>\n",
       "    </tr>\n",
       "    <tr>\n",
       "      <th>치즈감자튀김</th>\n",
       "      <td>246</td>\n",
       "    </tr>\n",
       "    <tr>\n",
       "      <th>감자튀김</th>\n",
       "      <td>242</td>\n",
       "    </tr>\n",
       "  </tbody>\n",
       "</table>\n",
       "</div>"
      ],
      "text/plain": [
       "             상품명\n",
       "김치볶음밥       1204\n",
       "라면           749\n",
       "짜장라면         455\n",
       "치즈불고기볶음밥     420\n",
       "계란추가         314\n",
       "낙지볶음밥        312\n",
       "새우볶음밥        309\n",
       "아메리카노(ICE)   284\n",
       "치즈감자튀김       246\n",
       "감자튀김         242"
      ]
     },
     "execution_count": 14,
     "metadata": {},
     "output_type": "execute_result"
    }
   ],
   "source": [
    "# 집계 결과를 데이터프레임으로 변환하고, 상위 10개 선정하기\n",
    "# [[YOUR CODE]]\n",
    "item_count = pd.DataFrame(item_count)\n",
    "item_count[:10]"
   ]
  },
  {
   "cell_type": "code",
   "execution_count": 15,
   "id": "2b369396",
   "metadata": {},
   "outputs": [
    {
     "data": {
      "text/plain": [
       "'~/aiffel/font/malgunbd.ttf'"
      ]
     },
     "execution_count": 15,
     "metadata": {},
     "output_type": "execute_result"
    }
   ],
   "source": [
    "# 한글이 포함된 시각화를 위해 Matplotlib 설정\n",
    "# [[YOUR CODE]]\n",
    "import matplotlib as mpl\n",
    "import matplotlib.pyplot as plt\n",
    "import matplotlib.font_manager as fm\n",
    "fontpath = '~/aiffel/font/malgunbd.ttf'\n",
    "font = fm.FontProperties(fname=fontpath, size=9)\n",
    "plt.rc('font', family='NanumBarunGothic') \n",
    "mpl.font_manager.findfont(font)"
   ]
  },
  {
   "cell_type": "code",
   "execution_count": 16,
   "id": "6e7ad391",
   "metadata": {},
   "outputs": [
    {
     "data": {
      "image/png": "[encoded data removed]",
      "text/plain": [
       "<Figure size 432x288 with 1 Axes>"
      ]
     },
     "metadata": {
      "needs_background": "light"
     },
     "output_type": "display_data"
    }
   ],
   "source": [
    "# 집계 결과를 시각화하기\n",
    "# [[YOUR CODE]]\n",
    "item_count[:10].plot(kind='bar')\n",
    "plt.show()"
   ]
  },
  {
   "cell_type": "code",
   "execution_count": 17,
   "id": "cf983eae",
   "metadata": {},
   "outputs": [
    {
     "data": {
      "text/plain": [
       "상품명\n",
       "(면)계란추가-국물라면           5000\n",
       "(면)계란후라이 추가-불닭/짜장     20000\n",
       "(면)치즈추가               10500\n",
       "(밥)계란후라이 추가            3000\n",
       "(밥)슈레드치즈추가             4500\n",
       "                      ...  \n",
       "한돈간장불고기덮밥            112500\n",
       "한돈고추장불고기덮밥           127500\n",
       "허니밀크쉐이크              108500\n",
       "헤이즐넛라떼(HOT)            9000\n",
       "헤이즐넛라떼(ICE)           62500\n",
       "Name: payment, Length: 100, dtype: int64"
      ]
     },
     "execution_count": 17,
     "metadata": {},
     "output_type": "execute_result"
    }
   ],
   "source": [
    "# temp_var의 payment열을 상품명을 기준으로 집계하기\n",
    "# [[YOUR CODE]]\n",
    "items_payment = temp_var['payment'].groupby(temp_var['상품명']).sum()\n",
    "items_payment"
   ]
  },
  {
   "cell_type": "code",
   "execution_count": 18,
   "id": "e4920e9a",
   "metadata": {},
   "outputs": [
    {
     "data": {
      "text/plain": [
       "상품명\n",
       "김치볶음밥         5971900\n",
       "라면            2916000\n",
       "치즈불고기볶음밥      2276100\n",
       "짜장라면          2032500\n",
       "낙지볶음밥         1699700\n",
       "새우볶음밥         1529800\n",
       "치즈감자튀김        1348700\n",
       "감자튀김          1083800\n",
       "아메리카노(ICE)     936100\n",
       "불닭볶음면          688500\n",
       "Name: payment, dtype: int64"
      ]
     },
     "execution_count": 18,
     "metadata": {},
     "output_type": "execute_result"
    }
   ],
   "source": [
    "# item_payment의 값을 내림차순으로 정렬하고 상위 10개 도출하기\n",
    "# [[YOUR CODE]]\n",
    "items_payment = items_payment.sort_values(ascending=False)\n",
    "items_payment[:10]"
   ]
  },
  {
   "cell_type": "code",
   "execution_count": 19,
   "id": "560a507f",
   "metadata": {},
   "outputs": [
    {
     "data": {
      "image/png": "[encoded data removed]",
      "text/plain": [
       "<Figure size 432x288 with 1 Axes>"
      ]
     },
     "metadata": {
      "needs_background": "light"
     },
     "output_type": "display_data"
    }
   ],
   "source": [
    "# 집계 결과 시각화하기\n",
    "# [[YOUR CODE]]\n",
    "items_payment[:10].plot(kind='bar')\n",
    "plt.show()"
   ]
  },
  {
   "cell_type": "code",
   "execution_count": 20,
   "id": "3317794c",
   "metadata": {},
   "outputs": [
    {
     "data": {
      "text/html": [
       "<div>\n",
       "<style scoped>\n",
       "    .dataframe tbody tr th:only-of-type {\n",
       "        vertical-align: middle;\n",
       "    }\n",
       "\n",
       "    .dataframe tbody tr th {\n",
       "        vertical-align: top;\n",
       "    }\n",
       "\n",
       "    .dataframe thead th {\n",
       "        text-align: right;\n",
       "    }\n",
       "</style>\n",
       "<table border=\"1\" class=\"dataframe\">\n",
       "  <thead>\n",
       "    <tr style=\"text-align: right;\">\n",
       "      <th></th>\n",
       "      <th>요금제명</th>\n",
       "      <th>입실</th>\n",
       "      <th>퇴실</th>\n",
       "      <th>이용</th>\n",
       "      <th>위치</th>\n",
       "      <th>금액</th>\n",
       "      <th>구분</th>\n",
       "      <th>고객</th>\n",
       "    </tr>\n",
       "  </thead>\n",
       "  <tbody>\n",
       "    <tr>\n",
       "      <th>0</th>\n",
       "      <td>시간요금제(1시간)</td>\n",
       "      <td>2022-04-01 23:39</td>\n",
       "      <td>2022-04-02 0:39</td>\n",
       "      <td>오전 1:00:00</td>\n",
       "      <td>선불기2</td>\n",
       "      <td>3000</td>\n",
       "      <td>퇴실</td>\n",
       "      <td>customer263717</td>\n",
       "    </tr>\n",
       "    <tr>\n",
       "      <th>1</th>\n",
       "      <td>시간요금제(1시간)</td>\n",
       "      <td>2022-04-01 23:39</td>\n",
       "      <td>2022-04-02 0:39</td>\n",
       "      <td>오전 1:00:00</td>\n",
       "      <td>선불기2</td>\n",
       "      <td>3000</td>\n",
       "      <td>퇴실</td>\n",
       "      <td>customer263717</td>\n",
       "    </tr>\n",
       "    <tr>\n",
       "      <th>2</th>\n",
       "      <td>무제한 입장권</td>\n",
       "      <td>2022-04-01 20:55</td>\n",
       "      <td>2022-04-01 21:41</td>\n",
       "      <td>오전 12:46:00</td>\n",
       "      <td>선불기2</td>\n",
       "      <td>7400</td>\n",
       "      <td>퇴실</td>\n",
       "      <td>customer247263</td>\n",
       "    </tr>\n",
       "    <tr>\n",
       "      <th>3</th>\n",
       "      <td>무제한 입장권</td>\n",
       "      <td>2022-04-01 20:55</td>\n",
       "      <td>2022-04-01 21:41</td>\n",
       "      <td>오전 12:46:00</td>\n",
       "      <td>선불기2</td>\n",
       "      <td>7400</td>\n",
       "      <td>퇴실</td>\n",
       "      <td>customer247263</td>\n",
       "    </tr>\n",
       "    <tr>\n",
       "      <th>4</th>\n",
       "      <td>한국대생 무제한 입장권</td>\n",
       "      <td>2022-04-01 19:54</td>\n",
       "      <td>2022-04-01 22:28</td>\n",
       "      <td>오전 2:33:00</td>\n",
       "      <td>선불기2</td>\n",
       "      <td>7400</td>\n",
       "      <td>퇴실</td>\n",
       "      <td>customer388928</td>\n",
       "    </tr>\n",
       "    <tr>\n",
       "      <th>...</th>\n",
       "      <td>...</td>\n",
       "      <td>...</td>\n",
       "      <td>...</td>\n",
       "      <td>...</td>\n",
       "      <td>...</td>\n",
       "      <td>...</td>\n",
       "      <td>...</td>\n",
       "      <td>...</td>\n",
       "    </tr>\n",
       "    <tr>\n",
       "      <th>22550</th>\n",
       "      <td>종일요금제</td>\n",
       "      <td>2021-02-17 13:09</td>\n",
       "      <td>2021-02-17 14:19</td>\n",
       "      <td>오전 1:10:00</td>\n",
       "      <td>선불기1</td>\n",
       "      <td>6500</td>\n",
       "      <td>퇴실</td>\n",
       "      <td>customer774105</td>\n",
       "    </tr>\n",
       "    <tr>\n",
       "      <th>22551</th>\n",
       "      <td>종일요금제</td>\n",
       "      <td>2021-02-17 13:09</td>\n",
       "      <td>2021-02-17 14:19</td>\n",
       "      <td>오전 1:10:00</td>\n",
       "      <td>선불기1</td>\n",
       "      <td>6500</td>\n",
       "      <td>퇴실</td>\n",
       "      <td>customer774105</td>\n",
       "    </tr>\n",
       "    <tr>\n",
       "      <th>22552</th>\n",
       "      <td>종일요금제</td>\n",
       "      <td>2021-02-17 13:06</td>\n",
       "      <td>2021-02-17 14:19</td>\n",
       "      <td>오전 1:13:00</td>\n",
       "      <td>선불기1</td>\n",
       "      <td>7000</td>\n",
       "      <td>퇴실</td>\n",
       "      <td>customer774105</td>\n",
       "    </tr>\n",
       "    <tr>\n",
       "      <th>22553</th>\n",
       "      <td>종일요금제</td>\n",
       "      <td>2021-02-17 13:06</td>\n",
       "      <td>2021-02-17 14:19</td>\n",
       "      <td>오전 1:13:00</td>\n",
       "      <td>선불기1</td>\n",
       "      <td>7000</td>\n",
       "      <td>퇴실</td>\n",
       "      <td>customer774105</td>\n",
       "    </tr>\n",
       "    <tr>\n",
       "      <th>22554</th>\n",
       "      <td>종일요금제</td>\n",
       "      <td>2021-02-17 12:58</td>\n",
       "      <td>2021-02-17 14:19</td>\n",
       "      <td>오전 1:21:00</td>\n",
       "      <td>선불기1</td>\n",
       "      <td>7000</td>\n",
       "      <td>퇴실</td>\n",
       "      <td>customer774105</td>\n",
       "    </tr>\n",
       "  </tbody>\n",
       "</table>\n",
       "<p>22555 rows × 8 columns</p>\n",
       "</div>"
      ],
      "text/plain": [
       "               요금제명                입실                퇴실           이용    위치  \\\n",
       "0        시간요금제(1시간)  2022-04-01 23:39   2022-04-02 0:39   오전 1:00:00  선불기2   \n",
       "1        시간요금제(1시간)  2022-04-01 23:39   2022-04-02 0:39   오전 1:00:00  선불기2   \n",
       "2           무제한 입장권  2022-04-01 20:55  2022-04-01 21:41  오전 12:46:00  선불기2   \n",
       "3           무제한 입장권  2022-04-01 20:55  2022-04-01 21:41  오전 12:46:00  선불기2   \n",
       "4      한국대생 무제한 입장권  2022-04-01 19:54  2022-04-01 22:28   오전 2:33:00  선불기2   \n",
       "...             ...               ...               ...          ...   ...   \n",
       "22550         종일요금제  2021-02-17 13:09  2021-02-17 14:19   오전 1:10:00  선불기1   \n",
       "22551         종일요금제  2021-02-17 13:09  2021-02-17 14:19   오전 1:10:00  선불기1   \n",
       "22552         종일요금제  2021-02-17 13:06  2021-02-17 14:19   오전 1:13:00  선불기1   \n",
       "22553         종일요금제  2021-02-17 13:06  2021-02-17 14:19   오전 1:13:00  선불기1   \n",
       "22554         종일요금제  2021-02-17 12:58  2021-02-17 14:19   오전 1:21:00  선불기1   \n",
       "\n",
       "         금액  구분              고객  \n",
       "0      3000  퇴실  customer263717  \n",
       "1      3000  퇴실  customer263717  \n",
       "2      7400  퇴실  customer247263  \n",
       "3      7400  퇴실  customer247263  \n",
       "4      7400  퇴실  customer388928  \n",
       "...     ...  ..             ...  \n",
       "22550  6500  퇴실  customer774105  \n",
       "22551  6500  퇴실  customer774105  \n",
       "22552  7000  퇴실  customer774105  \n",
       "22553  7000  퇴실  customer774105  \n",
       "22554  7000  퇴실  customer774105  \n",
       "\n",
       "[22555 rows x 8 columns]"
      ]
     },
     "execution_count": 20,
     "metadata": {},
     "output_type": "execute_result"
    }
   ],
   "source": [
    "# 활용할 데이터(entry_data)를 temp_var로 정의하기\n",
    "# [[YOUR CODE]]\n",
    "temp_var = entry_data.copy()\n",
    "temp_var"
   ]
  },
  {
   "cell_type": "code",
   "execution_count": 21,
   "id": "00f9e774",
   "metadata": {},
   "outputs": [
    {
     "data": {
      "text/plain": [
       "0        3000\n",
       "1        3000\n",
       "2        7400\n",
       "3        7400\n",
       "4        7400\n",
       "         ... \n",
       "22550    6500\n",
       "22551    6500\n",
       "22552    7000\n",
       "22553    7000\n",
       "22554    7000\n",
       "Name: 금액, Length: 22555, dtype: int64"
      ]
     },
     "execution_count": 21,
     "metadata": {},
     "output_type": "execute_result"
    }
   ],
   "source": [
    "# temp_var의 금액을 숫자형태로 변환하기\n",
    "# [[YOUR CODE]]\n",
    "temp_var['금액'].astype('int')\n",
    "temp_var['금액']"
   ]
  },
  {
   "cell_type": "code",
   "execution_count": 22,
   "id": "3a5ea95a",
   "metadata": {},
   "outputs": [
    {
     "data": {
      "text/plain": [
       "요금제명\n",
       "18시이후 무제한           1330500\n",
       "1시간                   90000\n",
       "1시간 요금제               14000\n",
       "3시간                   21000\n",
       "기간권                       0\n",
       "무제한 입장권             1568600\n",
       "무제한(일반요금)              6000\n",
       "무제한(한국대생)             14000\n",
       "시간 요금제(1시간당)          25000\n",
       "시간권                       0\n",
       "시간요금제                 12300\n",
       "시간요금제(1시간)          2665500\n",
       "시간요금제(1시간당)           22500\n",
       "시간요금제(3시간)          2042000\n",
       "심야-조조무제한            6221000\n",
       "심야-조조무제한(06시까지)    11600000\n",
       "이용권                       0\n",
       "입장권(종일권)           23570500\n",
       "조조무제한                693000\n",
       "종일요금제                233000\n",
       "한국대생 무제한 입장권        5207500\n",
       "한국대생 입장권(종일권)      70037000\n",
       "Name: 금액, dtype: int64"
      ]
     },
     "execution_count": 22,
     "metadata": {},
     "output_type": "execute_result"
    }
   ],
   "source": [
    "# temp_var의 금액을 요금제명을 기준으로 집계하기\n",
    "# [[YOUR CODE]]\n",
    "tickets = temp_var['금액'].groupby(temp_var['요금제명']).sum()\n",
    "tickets"
   ]
  },
  {
   "cell_type": "code",
   "execution_count": 23,
   "id": "1a52c0f0",
   "metadata": {},
   "outputs": [
    {
     "data": {
      "text/plain": [
       "요금제명\n",
       "한국대생 입장권(종일권)      70037000\n",
       "입장권(종일권)           23570500\n",
       "심야-조조무제한(06시까지)    11600000\n",
       "심야-조조무제한            6221000\n",
       "한국대생 무제한 입장권        5207500\n",
       "시간요금제(1시간)          2665500\n",
       "시간요금제(3시간)          2042000\n",
       "무제한 입장권             1568600\n",
       "18시이후 무제한           1330500\n",
       "조조무제한                693000\n",
       "Name: 금액, dtype: int64"
      ]
     },
     "execution_count": 23,
     "metadata": {},
     "output_type": "execute_result"
    }
   ],
   "source": [
    "# tickets의 값을 내림차순으로 정렬하고 상위 10개 도출하기\n",
    "# [[YOUR CODE]]\n",
    "tickets = tickets.sort_values(ascending=False)\n",
    "tickets[:10]"
   ]
  },
  {
   "cell_type": "code",
   "execution_count": 24,
   "id": "993795a6",
   "metadata": {},
   "outputs": [
    {
     "data": {
      "image/png": "[encoded data removed]",
      "text/plain": [
       "<Figure size 432x288 with 1 Axes>"
      ]
     },
     "metadata": {
      "needs_background": "light"
     },
     "output_type": "display_data"
    }
   ],
   "source": [
    "# 집계 결과 시각화하기\n",
    "# [[YOUR CODE]]\n",
    "tickets[:10].plot(kind='bar')\n",
    "plt.show()"
   ]
  },
  {
   "cell_type": "code",
   "execution_count": 25,
   "id": "e45ceaf8",
   "metadata": {},
   "outputs": [
    {
     "data": {
      "text/plain": [
       "125373400"
      ]
     },
     "execution_count": 25,
     "metadata": {},
     "output_type": "execute_result"
    }
   ],
   "source": [
    "# 내 Key Question을 중심으로 다양한 분석을 진행해봅시다.\n",
    "# [[YOUR CODE]]\n",
    "tickets_total_payment = temp_var['금액'].sum()\n",
    "tickets_total_payment"
   ]
  },
  {
   "cell_type": "code",
   "execution_count": 26,
   "id": "1e29d7c0",
   "metadata": {},
   "outputs": [
    {
     "data": {
      "text/plain": [
       "27737900"
      ]
     },
     "execution_count": 26,
     "metadata": {},
     "output_type": "execute_result"
    }
   ],
   "source": [
    "# [[YOUR CODE]]\n",
    "sales_data['결제금액'] = sales_data['결제금액'].apply(lambda x: int(x))\n",
    "items_total_payment = sales_data['결제금액'].sum()\n",
    "items_total_payment"
   ]
  },
  {
   "cell_type": "code",
   "execution_count": 27,
   "id": "9c1deab8",
   "metadata": {},
   "outputs": [
    {
     "data": {
      "image/png": "[encoded data removed]",
      "text/plain": [
       "<Figure size 432x288 with 1 Axes>"
      ]
     },
     "metadata": {},
     "output_type": "display_data"
    }
   ],
   "source": [
    "# [[YOUR CODE]]\n",
    "ratio = [tickets_total_payment, items_total_payment]\n",
    "labels = ['입장권 판매금액', '음식/음료 판매금액']\n",
    "plt.pie(ratio, labels=labels, autopct='%.1f%%')\n",
    "plt.title('매출 비율')\n",
    "plt.show()"
   ]
  },
  {
   "cell_type": "code",
   "execution_count": 28,
   "id": "4066d4cf",
   "metadata": {},
   "outputs": [
    {
     "data": {
      "image/png": "[encoded data removed]",
      "text/plain": [
       "<Figure size 432x288 with 1 Axes>"
      ]
     },
     "metadata": {
      "needs_background": "light"
     },
     "output_type": "display_data"
    }
   ],
   "source": [
    "# [[YOUR CODE]]\n",
    "sales_data['date'] = pd.to_datetime(sales_data['date'])\n",
    "grouped = sales_data['결제금액'].groupby(sales_data['date']).count()\n",
    "plt.plot(grouped)\n",
    "plt.title('음식 판매량 추세')\n",
    "plt.show()"
   ]
  }
 ],
 "metadata": {
  "kernelspec": {
   "display_name": "Python 3 (ipykernel)",
   "language": "python",
   "name": "python3"
  },
  "language_info": {
   "codemirror_mode": {
    "name": "ipython",
    "version": 3
   },
   "file_extension": ".py",
   "mimetype": "text/x-python",
   "name": "python",
   "nbconvert_exporter": "python",
   "pygments_lexer": "ipython3",
   "version": "3.9.7"
  }
 },
 "nbformat": 4,
 "nbformat_minor": 5
}
